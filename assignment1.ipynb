{
 "cells": [
  {
   "cell_type": "code",
   "execution_count": 9,
   "metadata": {},
   "outputs": [
    {
     "name": "stdout",
     "output_type": "stream",
     "text": [
      "Input the radius of the circle : 0.5\n",
      "Area of the circle with radius 0.5 is: 0.7853981633974483\n"
     ]
    }
   ],
   "source": [
    "#QUESTION 1: Write a Python program which accepts the radius of a circle from the user and compute the area.\n",
    "from math import pi\n",
    "r = float(input(\"Input the radius of the circle : \"))\n",
    "print(\"Area of the circle with radius \" + str(r) + \" is: \" + str( pi * r ** 2))#concatination of strings"
   ]
  },
  {
   "cell_type": "code",
   "execution_count": 13,
   "metadata": {},
   "outputs": [
    {
     "name": "stdout",
     "output_type": "stream",
     "text": [
      "Enter Number : -1\n",
      "Negative number Entered \n"
     ]
    }
   ],
   "source": [
    "#    2. Check Number either positive, negative or zero\n",
    "#Write a Python program to check if a number is positive, negative or zero\n",
    "n = float(input(\"Enter Number : \"))\n",
    "if n > 0:\n",
    "    print(\"Positive number Entered \")\n",
    "elif n == 0:\n",
    "    print(\"Zero Entered \")\n",
    "else: \n",
    "    print(\"Negative number Entered \")\n",
    "   "
   ]
  },
  {
   "cell_type": "code",
   "execution_count": 19,
   "metadata": {},
   "outputs": [
    {
     "name": "stdout",
     "output_type": "stream",
     "text": [
      "Enter Nominator : 5\n",
      "Enter denominator : 3\n",
      "3.0 is not divisible by 5.0\n"
     ]
    }
   ],
   "source": [
    "#    3. Divisibility Check of two numbers\n",
    "#Write a Python program to check whether a number is completely divisible by another number. Accept two integer values form the user\n",
    "n = float(input(\"Enter Nominator : \"))\n",
    "m = float(input(\"Enter denominator : \"))\n",
    "if n % m == 0:\n",
    "    print(\"Number is completely divisible by {} \".format(m))\n",
    "else:\n",
    "    print(\"{} is not completely divisible by {}\".format(m,n))"
   ]
  },
  {
   "cell_type": "code",
   "execution_count": 28,
   "metadata": {},
   "outputs": [
    {
     "name": "stdout",
     "output_type": "stream",
     "text": [
      "Nominator: 4\n",
      "Denominator: 2\n",
      "True\n"
     ]
    }
   ],
   "source": [
    "m = int(input('Nominator: '))\n",
    "n = int(input('Denominator: '))\n",
    "\n",
    "def multiple(m, n):return True if m % n == 0 else False\n",
    "\n",
    "print(multiple(m, n))"
   ]
  },
  {
   "cell_type": "code",
   "execution_count": 38,
   "metadata": {},
   "outputs": [
    {
     "name": "stdout",
     "output_type": "stream",
     "text": [
      "Enter a date in (dd/mm/yy) format: 2/2/14\n",
      "Enter a date in (dd/mm/yy) format: 12/2/14\n",
      "There are 10  days in between 2/2/14 and 12/2/14\n"
     ]
    }
   ],
   "source": [
    "\n",
    "#Question:4. Days Calculator\n",
    "#Write a Python program to calculate number of days between two dates\n",
    "from datetime import datetime\n",
    "\n",
    "date_formate = \"%d/%m/%y\"\n",
    "\n",
    "f_date = input(\"Enter a date in (dd/mm/yy) format: \")\n",
    "\n",
    "l_date = input(\"Enter a date in (dd/mm/yy) format: \")\n",
    "\n",
    "a = datetime.strptime(f_date ,date_formate)\n",
    "\n",
    "b = datetime.strptime(l_date ,date_formate)\n",
    "\n",
    "c = b - a\n",
    "\n",
    "#delta=l_date - f_date\n",
    "print(\"There are\" , c.days ,\" days in between\" , f_date , \"and\" , l_date)\n"
   ]
  },
  {
   "cell_type": "code",
   "execution_count": 39,
   "metadata": {},
   "outputs": [
    {
     "name": "stdout",
     "output_type": "stream",
     "text": [
      "Input the radius of the sphere : 1\n",
      "Volume of the circle with radius 1.0 is: 4.1887902047863905\n"
     ]
    }
   ],
   "source": [
    "#question: 5. Calculate Volume of a sphere\n",
    "#Write a Python program to get the volume of a sphere, please take the radius as input from user\n",
    "from math import pi\n",
    "r = float(input(\"Input the radius of the sphere : \"))\n",
    "print(\"Volume of the circle with radius \" + str(r) + \" is: \" + str(4.0/3.0 * pi * r ** 3))#concatination of strings and v= 4/3 pi r^3"
   ]
  },
  {
   "cell_type": "code",
   "execution_count": 50,
   "metadata": {},
   "outputs": [
    {
     "name": "stdout",
     "output_type": "stream",
     "text": [
      "Enter  string : PIAIC\n",
      "How many times do you want to copy : 5\n",
      "5 copies of   PIAIC  is:   {'PIAICPIAICPIAICPIAICPIAIC'}\n"
     ]
    }
   ],
   "source": [
    "#question 6 :Copy string n times\n",
    "#Write a Python program to get a string which is n (non-negative integer) copies of a given string. \n",
    "_strnges = str(input(\"Enter  string : \"))\n",
    "\n",
    "copies = int(input(\"How many times do you want to copy : \"))\n",
    "\n",
    "result = _strnges * copies\n",
    "print(copies, \"copies of  \", _strnges, \" is:  \" ,{result})\n"
   ]
  },
  {
   "cell_type": "code",
   "execution_count": 53,
   "metadata": {},
   "outputs": [
    {
     "name": "stdout",
     "output_type": "stream",
     "text": [
      "Enter a number to : 6\n",
      "6 is Even \n"
     ]
    }
   ],
   "source": [
    " #Question 7. Check if number is Even or Odd\n",
    "#Write a Python program to find whether a given number (accept from the user) is even or odd, print out an appropriate message to the user.\n",
    "\n",
    "number = int(input(\"Enter a number to : \"))\n",
    " if number % 2  == 0:\n",
    "    print(f\"{number} is Even \")\n",
    "    \n",
    "else:\n",
    "    print(f\"{number} is Odd\")"
   ]
  },
  {
   "cell_type": "code",
   "execution_count": 82,
   "metadata": {},
   "outputs": [
    {
     "name": "stdout",
     "output_type": "stream",
     "text": [
      "Enter a character :o\n",
      "Letter' o 'is Vowel\n"
     ]
    }
   ],
   "source": [
    "#Question 8. Vowel Tester\n",
    "#Write a Python program to test whether a passed letter is a vowel or not\n",
    "\n",
    "word = input(\"Enter a character :\")\n",
    "\n",
    "if word in ('a','e','i','o','u','A','E','I','O','U'):\n",
    "    print(f\"Letter' {word} 'is Vowel\")\n",
    "else:\n",
    "    print(f\"Letter' {word} '  is not Vowel\")\n"
   ]
  },
  {
   "cell_type": "code",
   "execution_count": 83,
   "metadata": {},
   "outputs": [
    {
     "name": "stdout",
     "output_type": "stream",
     "text": [
      "Enter a character :A\n",
      "Letter' A 'is Vowel\n"
     ]
    }
   ],
   "source": [
    "#Question 8. Vowel Tester\n",
    "#Write a Python program to test whether a passed letter is a vowel or not\n",
    "\n",
    "word = input(\"Enter a character :\")\n",
    "\n",
    "if word in ('a','e','i','o','u','A','E','I','O','U'):\n",
    "    print(f\"Letter' {word} 'is Vowel\")\n",
    "else:\n",
    "    print(f\"Letter' {word} '  is not Vowel\")\n"
   ]
  },
  {
   "cell_type": "code",
   "execution_count": 84,
   "metadata": {},
   "outputs": [
    {
     "name": "stdout",
     "output_type": "stream",
     "text": [
      "Enter a character :e\n",
      "Letter' e 'is Vowel\n"
     ]
    }
   ],
   "source": [
    "#Question 8. Vowel Tester\n",
    "#Write a Python program to test whether a passed letter is a vowel or not\n",
    "\n",
    "word = input(\"Enter a character :\")\n",
    "\n",
    "if word in ('a','e','i','o','u','A','E','I','O','U'):\n",
    "    print(f\"Letter' {word} 'is Vowel\")\n",
    "else:\n",
    "    print(f\"Letter' {word} '  is not Vowel\")\n"
   ]
  },
  {
   "cell_type": "code",
   "execution_count": 85,
   "metadata": {},
   "outputs": [
    {
     "name": "stdout",
     "output_type": "stream",
     "text": [
      "Enter a character :N\n",
      "Letter' N '  is not Vowel\n"
     ]
    }
   ],
   "source": [
    "#Question 8. Vowel Tester\n",
    "#Write a Python program to test whether a passed letter is a vowel or not\n",
    "\n",
    "word = input(\"Enter a character :\")\n",
    "\n",
    "if word in ('a','e','i','o','u','A','E','I','O','U'):\n",
    "    print(f\"Letter' {word} 'is Vowel\")\n",
    "else:\n",
    "    print(f\"Letter' {word} '  is not Vowel\")\n"
   ]
  },
  {
   "cell_type": "code",
   "execution_count": 87,
   "metadata": {},
   "outputs": [
    {
     "name": "stdout",
     "output_type": "stream",
     "text": [
      "Enter magnitude of Triangle base:4\n",
      "Enter Magnitude of Triangle Height:4\n",
      "Area of a Triangle with Height 4 and Base 4 is 8.0\n"
     ]
    }
   ],
   "source": [
    "#Question 9. Triangle area\n",
    "#Write a Python program that will accept the base and height of a triangle and compute the area\n",
    "base = int(input(\"Enter magnitude of Triangle base:\"))\n",
    "height = int(input(\"Enter Magnitude of Triangle Height:\"))\n",
    "area = base * height / 2\n",
    "print(f\"Area of a Triangle with Height {base} and Base {height} is {area}\")\n"
   ]
  },
  {
   "cell_type": "code",
   "execution_count": 90,
   "metadata": {},
   "outputs": [
    {
     "name": "stdout",
     "output_type": "stream",
     "text": [
      "Please enter principal amount:10000\n",
      "Please Enter Rate of interest in %:0.1\n",
      "Enter number of years for investment: 5\n",
      "After 5.0 years your principal amount 10000.0 over an interest rate of 0.1 % will be 10005.001000100005\n"
     ]
    }
   ],
   "source": [
    "#Question10. Calculate Interest\n",
    "#Write a Python program to compute the future value of a specified principal amount, rate of interest, and a number of years\n",
    "\n",
    "amount = float(input(\"Please enter principal amount:\"))\n",
    "\n",
    "rate = float(input(\"Please Enter Rate of interest in %:\"))\n",
    "\n",
    "year = float(input(\"Enter number of years for investment: \")) \n",
    "\n",
    "interest = amount * (pow((1+rate/1000),year)) \n",
    "\n",
    "print(f\"After {year} years your principal amount {amount} over an interest rate of {rate} % will be {interest}\")\n"
   ]
  },
  {
   "cell_type": "code",
   "execution_count": 95,
   "metadata": {},
   "outputs": [
    {
     "name": "stdout",
     "output_type": "stream",
     "text": [
      "Enter Co-ordinate for x1 :2\n",
      "Enter Co-ordinate for x2:4\n",
      "Enter Co-ordinate for y1:4\n",
      "Enter Co-ordinate for y2:4\n",
      "Distance between points (2, 4) and (4, 4) is 2.0\n"
     ]
    }
   ],
   "source": [
    "#Question: Euclidean distance\n",
    "#Write a Python program to compute the distance between the points (x1, y1) and (x2, y2).\n",
    "\n",
    "x1 = int(input(\"Enter Co-ordinate for x1 :\"))\n",
    "x2 = int(input(\"Enter Co-ordinate for x2:\")) \n",
    "y1 = int(input(\"Enter Co-ordinate for y1:\"))\n",
    "y2 = int(input(\"Enter Co-ordinate for y2:\"))\n",
    "d = ((x2-x1)**2 + (y2-y1)**2) ** 0.5\n",
    "print(f\"Distance between points ({x1}, {x2}) and ({y1}, {y2}) is {d}\")\n"
   ]
  },
  {
   "cell_type": "code",
   "execution_count": 98,
   "metadata": {},
   "outputs": [
    {
     "name": "stdout",
     "output_type": "stream",
     "text": [
      "Enter Height in Feet:5\n",
      "There are 152.4 Cm in 5 ft\n"
     ]
    }
   ],
   "source": [
    "#Question 12. Feet to Centimeter Converter\n",
    "#Write a Python program to convert height in feet to centimetres.\n",
    "\n",
    "feet = int(input(\"Enter Height in Feet:\"))\n",
    "c = feet * 30.48\n",
    "print(f\"There are {c} Cm in {feet} ft\")"
   ]
  },
  {
   "cell_type": "code",
   "execution_count": 102,
   "metadata": {},
   "outputs": [
    {
     "name": "stdout",
     "output_type": "stream",
     "text": [
      "Enter Height in Cm:180\n",
      "Enter Weight in Kg:75\n",
      "Your BMI is 23.148148148148145\n"
     ]
    }
   ],
   "source": [
    "#question13. BMI Calculator\n",
    "#Write a Python program to calculate body mass index\n",
    "height = int(input(\"Enter Height in Cm:\"))\n",
    "weight = int(input(\"Enter Weight in Kg:\"))\n",
    "b =  weight / (height /100)**2\n",
    "print(\"Your BMI is \" +str(b))\n"
   ]
  },
  {
   "cell_type": "code",
   "execution_count": 104,
   "metadata": {},
   "outputs": [
    {
     "name": "stdout",
     "output_type": "stream",
     "text": [
      "Enter value of n:5\n",
      "Sum of n Positive integers till 5 is 15.0\n"
     ]
    }
   ],
   "source": [
    "#Question 14. Sum of n Positive Integers\n",
    "#Write a python program to sum of the first n positive integers\n",
    "\n",
    "n = int(input(\"Enter value of n:\"))\n",
    "r = (n * (n + 1)) / 2\n",
    "print(f\"Sum of n Positive integers till {n} is {r}\")\n"
   ]
  },
  {
   "cell_type": "code",
   "execution_count": 117,
   "metadata": {},
   "outputs": [
    {
     "name": "stdout",
     "output_type": "stream",
     "text": [
      "Enter a number:15\n",
      "The sum of  1 + 5 is 6\n"
     ]
    }
   ],
   "source": [
    "#Question  15. Digits Sum of a Number\n",
    "#Write a Python program to calculate the sum of the digits in an integer\n",
    "\n",
    "n = str(input(\"Enter a number:\") ) \n",
    "\n",
    "x = 0\n",
    "for i in n :\n",
    "    x += int(i)\n",
    "print(\"The sum of \",' + '.join(map(str,n)), \"is\", x )\n"
   ]
  },
  {
   "cell_type": "code",
   "execution_count": 118,
   "metadata": {},
   "outputs": [
    {
     "name": "stdout",
     "output_type": "stream",
     "text": [
      "Enter a number:1234\n",
      "The sum of  1 + 2 + 3 + 4 is 10\n"
     ]
    }
   ],
   "source": [
    "#Question  15. Digits Sum of a Number\n",
    "#Write a Python program to calculate the sum of the digits in an integer\n",
    "\n",
    "n = str(input(\"Enter a number:\") ) \n",
    "\n",
    "x = 0\n",
    "for i in n :\n",
    "    x += int(i)\n",
    "print(\"The sum of \",' + '.join(map(str,n)), \"is\", x )\n"
   ]
  },
  {
   "cell_type": "code",
   "execution_count": 134,
   "metadata": {},
   "outputs": [
    {
     "name": "stdout",
     "output_type": "stream",
     "text": [
      "Enter a decimal number: 5\n",
      "Binary Representation of 5 is 101\n"
     ]
    }
   ],
   "source": [
    "#Question 16. Decimal to Binary Converter\n",
    "#Write a Python program to convert an decimal integer to binary\n",
    "\n",
    "num = int(input(\"Enter a decimal number: \"))\n",
    "\n",
    "result = bin(num)\n",
    "\n",
    "print(f\"Binary Representation of {num} is {result[2:]}\")"
   ]
  },
  {
   "cell_type": "code",
   "execution_count": 135,
   "metadata": {},
   "outputs": [
    {
     "name": "stdout",
     "output_type": "stream",
     "text": [
      "Enter a decimal number: 32\n",
      "Binary Representation of 32 is 100000\n"
     ]
    }
   ],
   "source": [
    "#Question 16. Decimal to Binary Converter\n",
    "#Write a Python program to convert an decimal integer to binary\n",
    "\n",
    "num = int(input(\"Enter a decimal number: \"))\n",
    "\n",
    "result = bin(num)\n",
    "\n",
    "print(f\"Binary Representation of {num} is {result[2:]}\")"
   ]
  },
  {
   "cell_type": "code",
   "execution_count": 136,
   "metadata": {},
   "outputs": [
    {
     "name": "stdout",
     "output_type": "stream",
     "text": [
      "Enter a decimal number: 1101\n",
      "Decimal Representation of 1101 is 13\n"
     ]
    }
   ],
   "source": [
    "# Question17. Binary to Decimal Converter\n",
    "#Write a program to convert binary number to Decimal number\n",
    "num = str(input(\"Enter a decimal number: \"))\n",
    "\n",
    "result = int(num,2)\n",
    "\n",
    "print(f\"Decimal Representation of {num} is {result}\")"
   ]
  },
  {
   "cell_type": "code",
   "execution_count": 137,
   "metadata": {},
   "outputs": [
    {
     "name": "stdout",
     "output_type": "stream",
     "text": [
      "Enter a decimal number: 1001\n",
      "Decimal Representation of 1001 is 9\n"
     ]
    }
   ],
   "source": [
    "# Question17. Binary to Decimal Converter\n",
    "#Write a program to convert binary number to Decimal number\n",
    "num = str(input(\"Enter a decimal number: \"))\n",
    "\n",
    "result = int(num,2)\n",
    "\n",
    "print(f\"Decimal Representation of {num} is {result}\")"
   ]
  },
  {
   "cell_type": "code",
   "execution_count": 147,
   "metadata": {},
   "outputs": [
    {
     "name": "stdout",
     "output_type": "stream",
     "text": [
      "Enter text:QuickBrownFoxJumpsovertheDog\n",
      "vowels: 9\n",
      "Constant :19\n"
     ]
    }
   ],
   "source": [
    "#question18. Vowel and Consonants CounterEnter text:\n",
    "#Input a text and count the occurrences of vowels and consonant\n",
    "\n",
    "text = str(input(\"Enter text:\")) \n",
    "#counters\n",
    "vowel = 0\n",
    "constant = 0\n",
    "#checking for loop  \n",
    "for char in text:\n",
    "    if char in \"aeiou\" :\n",
    "        vowel =vowel + 1\n",
    "#printing statement        \n",
    "print(\"vowels: \" + str(vowel))\n",
    "#checking for constant  \n",
    "for element in text:    \n",
    "    if element not in \"aeiouAEIOU\":\n",
    "            constant = constant + 1\n",
    "            \n",
    "print(\"Constant :\" + str(constant))\n"
   ]
  },
  {
   "cell_type": "code",
   "execution_count": 151,
   "metadata": {},
   "outputs": [
    {
     "name": "stdout",
     "output_type": "stream",
     "text": [
      "Enter text: AHA\n",
      "Text AHA is Palindrome\n"
     ]
    }
   ],
   "source": [
    "#Question19. Palindrome tester\n",
    "#Write a program to check whether given input is palindrome or not\n",
    "n = input(\"Enter text: \")\n",
    "\n",
    "r = n[::-1]\n",
    "\n",
    "if(n == r):\n",
    "    print(f\"Text {n} is Palindrome\")\n",
    "else:\n",
    "    print(f\"Text {n} is not a Palindrome\")\n",
    "\n"
   ]
  },
  {
   "cell_type": "code",
   "execution_count": 152,
   "metadata": {},
   "outputs": [
    {
     "name": "stdout",
     "output_type": "stream",
     "text": [
      "Enter text: Hello\n",
      "Text Hello is not a Palindrome\n"
     ]
    }
   ],
   "source": [
    "#Question19. Palindrome tester\n",
    "#Write a program to check whether given input is palindrome or not\n",
    "n = input(\"Enter text: \")\n",
    "\n",
    "r = n[::-1]\n",
    "\n",
    "if(n == r):\n",
    "    print(f\"Text {n} is Palindrome\")\n",
    "else:\n",
    "    print(f\"Text {n} is not a Palindrome\")\n",
    "\n"
   ]
  },
  {
   "cell_type": "code",
   "execution_count": 159,
   "metadata": {},
   "outputs": [
    {
     "name": "stdout",
     "output_type": "stream",
     "text": [
      "Enter text: Python 3.2\n",
      "Numbers = 2 \n",
      " Alphabets = 6 \n",
      " Special characters = 1 \n",
      " Spaces = 1 \n"
     ]
    }
   ],
   "source": [
    " #Question20. Count Alphabets, Numbers and Special Characters\n",
    "#Write a Python program that accepts a string and calculate the number of digits and letters\n",
    " n = input(\"Enter text: \")\n",
    "num = alpha = spCh = space = 0\n",
    "\n",
    "for i in range(len(n)):\n",
    "    if (n[i].isalpha()):\n",
    "        alpha += 1\n",
    "        \n",
    "    elif (n[i].isdigit()):\n",
    "        num += 1\n",
    "        \n",
    "    elif(n[i]== \" \"):\n",
    "        space += 1\n",
    "        \n",
    "    else :\n",
    "        spCh +=1\n",
    "        \n",
    "print(f\"Numbers = {num} \\n Alphabets = {alpha} \\n Special characters = {spCh} \\n Spaces = {space} \")        "
   ]
  },
  {
   "cell_type": "code",
   "execution_count": 166,
   "metadata": {},
   "outputs": [
    {
     "name": "stdout",
     "output_type": "stream",
     "text": [
      "* \r\n",
      "* * \r\n",
      "* * * \r\n",
      "* * * * \r\n",
      "* * * * * \r\n",
      "* * * * \r\n",
      "* * * \r\n",
      "* * \r\n",
      "* \r\n",
      "\r\n"
     ]
    }
   ],
   "source": [
    "#Question21. Write a Python program to construct the following pattern\n",
    "\n",
    "for i in range(0,5):\n",
    "    for j in range(0,i + 1):\n",
    "        print(\"*\" ,end=' ')\n",
    "    print(\"\\r\")\n",
    "\n",
    "for i in range(5,0,-1):\n",
    "    for j in range(0,i -1):\n",
    "        print(\"*\" ,end=' ')\n",
    "    print(\"\\r\")"
   ]
  },
  {
   "cell_type": "code",
   "execution_count": 169,
   "metadata": {},
   "outputs": [
    {
     "name": "stdout",
     "output_type": "stream",
     "text": [
      "1  \n",
      "1 2  \n",
      "1 2 3  \n",
      "1 2 3 4  \n",
      "1 2 3 4 5  \n",
      "* * * * \r\n",
      "* * * \r\n",
      "* * \r\n",
      "* \r\n",
      "\r\n"
     ]
    }
   ],
   "source": [
    "#Question. Write a Python program to construct the following pattern\n",
    "\n",
    "for i in range(1,6):\n",
    "    for j in range(1,i + 1):\n",
    "        print(j ,end=' ')\n",
    "    print(\" \")\n",
    "\n",
    "for i in range(5,0,-1):\n",
    "    for j in range(0,i -1):\n",
    "        print(\"*\" ,end=' ')\n",
    "    print(\"\\r\")"
   ]
  },
  {
   "cell_type": "code",
   "execution_count": 172,
   "metadata": {},
   "outputs": [
    {
     "name": "stdout",
     "output_type": "stream",
     "text": [
      "1  \n",
      "1 2  \n",
      "1 2 3  \n",
      "1 2 3 4  \n",
      "1 2 3 4 5  \n",
      "1 2 3 4  \n",
      "1 2 3  \n",
      "1 2  \n",
      "1  \n",
      " \n"
     ]
    }
   ],
   "source": [
    "#22Question. Write a Python program to construct the following pattern\n",
    "\n",
    "for i in range(1,6):\n",
    "    for j in range(1,i + 1):\n",
    "        print(j ,end=' ')\n",
    "    print(\" \")\n",
    "\n",
    "for i in range(6,1,-1):\n",
    "    for j in range(1,i -1):\n",
    "        print(j ,end=' ')\n",
    "    print(\" \")"
   ]
  },
  {
   "cell_type": "code",
   "execution_count": 184,
   "metadata": {},
   "outputs": [
    {
     "name": "stdout",
     "output_type": "stream",
     "text": [
      "1  \n",
      "2 2  \n",
      "3 3 3  \n",
      "4 4 4 4  \n",
      "5 5 5 5 5  \n",
      "6 6 6 6 6 6  \n",
      "7 7 7 7 7 7 7  \n",
      "8 8 8 8 8 8 8 8  \n",
      "9 9 9 9 9 9 9 9 9  \n"
     ]
    }
   ],
   "source": [
    "#Question23. Write a Python program to construct the following pattern\n",
    "\n",
    "for i in range(1,10):\n",
    "    for j in range(0,i):\n",
    "        print(i ,end=' ')\n",
    "    print(\" \")\n",
    "\n"
   ]
  },
  {
   "cell_type": "code",
   "execution_count": null,
   "metadata": {},
   "outputs": [],
   "source": []
  }
 ],
 "metadata": {
  "kernelspec": {
   "display_name": "Python 3",
   "language": "python",
   "name": "python3"
  },
  "language_info": {
   "codemirror_mode": {
    "name": "ipython",
    "version": 3
   },
   "file_extension": ".py",
   "mimetype": "text/x-python",
   "name": "python",
   "nbconvert_exporter": "python",
   "pygments_lexer": "ipython3",
   "version": "3.7.3"
  }
 },
 "nbformat": 4,
 "nbformat_minor": 2
}
